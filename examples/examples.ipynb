{
 "cells": [
  {
   "cell_type": "code",
   "execution_count": 1,
   "id": "51192096",
   "metadata": {},
   "outputs": [],
   "source": [
    "import sys\n",
    "sys.path.append('..')"
   ]
  },
  {
   "cell_type": "code",
   "execution_count": 2,
   "id": "4d07d946",
   "metadata": {},
   "outputs": [],
   "source": [
    "from wrappers.common_wrapper import CommonWrapper\n",
    "from viewers.simple_text_viewer import SimpleTextViewer\n",
    "from templates.knowledge.term import LinkedTerm"
   ]
  },
  {
   "cell_type": "code",
   "execution_count": null,
   "id": "704fe968",
   "metadata": {},
   "outputs": [],
   "source": []
  },
  {
   "cell_type": "code",
   "execution_count": 3,
   "id": "bf59d6c6",
   "metadata": {},
   "outputs": [],
   "source": [
    "text_viewer = SimpleTextViewer()\n",
    "CommonWrapper.set_default_viewer(text_viewer)"
   ]
  },
  {
   "cell_type": "code",
   "execution_count": null,
   "id": "18e3ce51",
   "metadata": {},
   "outputs": [],
   "source": []
  },
  {
   "cell_type": "markdown",
   "id": "98308fd0",
   "metadata": {},
   "source": [
    "### Getting views for simple Python structs"
   ]
  },
  {
   "cell_type": "code",
   "execution_count": 4,
   "id": "be1f2b7c",
   "metadata": {},
   "outputs": [
    {
     "name": "stdout",
     "output_type": "stream",
     "text": [
      "dict {'a': 1, 'b': 2}\n",
      "  a (int): 1\n",
      "  b (int): 2\n"
     ]
    },
    {
     "data": {
      "text/plain": [
       "CommonWrapper({'a': 1, 'b': 2})"
      ]
     },
     "execution_count": 4,
     "metadata": {},
     "output_type": "execute_result"
    }
   ],
   "source": [
    "d = dict(a=1, b=2)\n",
    "w = CommonWrapper(d)\n",
    "w.print()\n",
    "w"
   ]
  },
  {
   "cell_type": "code",
   "execution_count": 5,
   "id": "d1327823",
   "metadata": {},
   "outputs": [
    {
     "name": "stdout",
     "output_type": "stream",
     "text": [
      "CommonWrapper CommonWrapper({'a': 1, 'b': 2})\n",
      "  class (type): dict\n",
      "  path (0)\n",
      "  a (int): 1\n",
      "  b (int): 2\n"
     ]
    },
    {
     "data": {
      "text/plain": [
       "CommonWrapper(CommonWrapper({'a': 1, 'b': 2}))"
      ]
     },
     "execution_count": 5,
     "metadata": {},
     "output_type": "execute_result"
    }
   ],
   "source": [
    "w2 = CommonWrapper(w)\n",
    "w2.print()\n",
    "w2"
   ]
  },
  {
   "cell_type": "code",
   "execution_count": null,
   "id": "f7257b50",
   "metadata": {},
   "outputs": [],
   "source": []
  },
  {
   "cell_type": "code",
   "execution_count": 6,
   "id": "ed20b803",
   "metadata": {},
   "outputs": [
    {
     "data": {
      "text/plain": [
       "CommonWrapper(1)"
      ]
     },
     "execution_count": 6,
     "metadata": {},
     "output_type": "execute_result"
    }
   ],
   "source": [
    "w.get_property('a')"
   ]
  },
  {
   "cell_type": "code",
   "execution_count": 7,
   "id": "0b8e7bf5",
   "metadata": {},
   "outputs": [
    {
     "data": {
      "text/plain": [
       "CommonWrapper({'a': 1, 'b': 2})"
      ]
     },
     "execution_count": 7,
     "metadata": {},
     "output_type": "execute_result"
    }
   ],
   "source": [
    "w2.get_property('_obj')"
   ]
  },
  {
   "cell_type": "code",
   "execution_count": null,
   "id": "78375bd8",
   "metadata": {},
   "outputs": [],
   "source": []
  },
  {
   "cell_type": "code",
   "execution_count": 8,
   "id": "6d3eae4b",
   "metadata": {},
   "outputs": [
    {
     "data": {
      "text/plain": [
       "CommonWrapper(1)"
      ]
     },
     "execution_count": 8,
     "metadata": {},
     "output_type": "execute_result"
    }
   ],
   "source": [
    "w2.get_node(['_obj', 'a'])"
   ]
  },
  {
   "cell_type": "code",
   "execution_count": 9,
   "id": "66f22452",
   "metadata": {},
   "outputs": [
    {
     "data": {
      "text/plain": [
       "CommonWrapper(1)"
      ]
     },
     "execution_count": 9,
     "metadata": {},
     "output_type": "execute_result"
    }
   ],
   "source": [
    "w2.get_node('_obj.a')"
   ]
  },
  {
   "cell_type": "code",
   "execution_count": 10,
   "id": "ba32bf82",
   "metadata": {},
   "outputs": [
    {
     "data": {
      "text/plain": [
       "CommonWrapper({'a': 1, 'b': 2})"
      ]
     },
     "execution_count": 10,
     "metadata": {},
     "output_type": "execute_result"
    }
   ],
   "source": [
    "w.get_node('')"
   ]
  },
  {
   "cell_type": "code",
   "execution_count": null,
   "id": "5c9618d9",
   "metadata": {},
   "outputs": [],
   "source": []
  },
  {
   "cell_type": "markdown",
   "id": "f3719a16",
   "metadata": {},
   "source": [
    "### Getting views for LinkedTerm examples"
   ]
  },
  {
   "cell_type": "code",
   "execution_count": 11,
   "id": "78dec67c",
   "metadata": {},
   "outputs": [],
   "source": [
    "from examples.da_knowledge.linked_terms import da_method, psm"
   ]
  },
  {
   "cell_type": "code",
   "execution_count": 12,
   "id": "9160de2a",
   "metadata": {},
   "outputs": [
    {
     "name": "stdout",
     "output_type": "stream",
     "text": [
      "DA-method(s)\n"
     ]
    },
    {
     "data": {
      "text/plain": [
       "da_method"
      ]
     },
     "execution_count": 12,
     "metadata": {},
     "output_type": "execute_result"
    }
   ],
   "source": [
    "print(da_method)\n",
    "da_method"
   ]
  },
  {
   "cell_type": "code",
   "execution_count": 13,
   "id": "1c1195e7",
   "metadata": {},
   "outputs": [
    {
     "name": "stdout",
     "output_type": "stream",
     "text": [
      "LinkedTerm da_method\n",
      "  class (0)\n",
      "  path (1): 'da_method'\n",
      "  short_name (str): da_method\n",
      "  synonymes (3): 'DA-method(s)', 'DA-метод(ы)', 'аналитический(-ие) метод(ы)'\n",
      "  definition (str): способ решения задач анализе данных\n",
      "  parent (1): method\n",
      "  child (0)\n",
      "  instance (4): ci, abt, ps_methods, psm\n",
      "  container (1): da\n",
      "  content (0)\n",
      "  uses (0)\n",
      "  usage (1): da_task_type\n"
     ]
    }
   ],
   "source": [
    "text_viewer.print(da_method)"
   ]
  },
  {
   "cell_type": "code",
   "execution_count": 14,
   "id": "9a9f99c8",
   "metadata": {},
   "outputs": [
    {
     "name": "stdout",
     "output_type": "stream",
     "text": [
      "LinkedTerm psm\n",
      "  class (1): da_method\n",
      "  path (1): 'psm'\n",
      "  short_name (str): psm\n",
      "  synonymes (2): 'PSM', 'propensity score matching'\n",
      "  definition (str): сравнение пар объектов, в которых один испытал некоторое ...\n",
      "  parent (0)\n",
      "  child (0)\n",
      "  instance (0)\n",
      "  container (1): ps_methods\n",
      "  content (0)\n",
      "  uses (0)\n",
      "  usage (0)\n"
     ]
    }
   ],
   "source": [
    "text_viewer.print(psm)"
   ]
  },
  {
   "cell_type": "code",
   "execution_count": null,
   "id": "b8cdf12b",
   "metadata": {},
   "outputs": [],
   "source": []
  },
  {
   "cell_type": "markdown",
   "id": "5cc78354",
   "metadata": {},
   "source": [
    "### Getting objects by path"
   ]
  },
  {
   "cell_type": "code",
   "execution_count": 15,
   "id": "beb64432",
   "metadata": {},
   "outputs": [],
   "source": [
    "root = CommonWrapper(da_method)"
   ]
  },
  {
   "cell_type": "code",
   "execution_count": 16,
   "id": "4793e7b3",
   "metadata": {
    "scrolled": true
   },
   "outputs": [
    {
     "name": "stdout",
     "output_type": "stream",
     "text": [
      "list [ci, abt, ps_methods, psm]\n",
      "  class (type): list\n",
      "  path (2): 'da_method', 'instance'\n",
      "  0 (LinkedTerm): CI\n",
      "  1 (LinkedTerm): ABT\n",
      "  2 (LinkedTerm): PS\n",
      "  3 (LinkedTerm): PSM\n"
     ]
    }
   ],
   "source": [
    "root.get_node('instance').print()"
   ]
  },
  {
   "cell_type": "code",
   "execution_count": 17,
   "id": "e822307e",
   "metadata": {},
   "outputs": [
    {
     "name": "stdout",
     "output_type": "stream",
     "text": [
      "LinkedTerm ci\n",
      "  class (1): da_method\n",
      "  path (3): 'da_method', 'instance', 'ci'\n",
      "  short_name (str): ci\n",
      "  synonymes (4): 'CI', 'causal inference', 'причинно-следственный вывод', 'пр...\n",
      "  definition (str): методы исследования причинно-следственных связей\n",
      "  parent (0)\n",
      "  child (0)\n",
      "  instance (0)\n",
      "  container (0)\n",
      "  content (2): abt, ps_methods\n",
      "  uses (0)\n",
      "  usage (1): pilot_eval_task\n"
     ]
    }
   ],
   "source": [
    "root.get_node('instance.ci').print()"
   ]
  },
  {
   "cell_type": "code",
   "execution_count": 18,
   "id": "969b30bf",
   "metadata": {},
   "outputs": [],
   "source": [
    "assert root.get_node('instance.0') == root.get_node('instance.ci'), (root.get_node('instance.0'), root.get_node('instance.ci'))"
   ]
  },
  {
   "cell_type": "code",
   "execution_count": 19,
   "id": "96f89b49",
   "metadata": {},
   "outputs": [
    {
     "name": "stdout",
     "output_type": "stream",
     "text": [
      "LinkedTerm ps_methods\n",
      "  class (1): da_method\n",
      "  path (5): 'da_method', 'instance', 'ci', 'content', 'ps_methods'\n",
      "  short_name (str): ps_methods\n",
      "  synonymes (4): 'PS', 'PS*', 'PS-methods', 'propensity score methods'\n",
      "  definition (str): методы оценки влияния воздействия, использующие оценки ве...\n",
      "  parent (0)\n",
      "  child (0)\n",
      "  instance (0)\n",
      "  container (1): ci\n",
      "  content (1): psm\n",
      "  uses (0)\n",
      "  usage (2): retro_pilot_eval_task, observational_study\n"
     ]
    }
   ],
   "source": [
    "root.get_node('instance.ci.content.ps_methods').print()"
   ]
  },
  {
   "cell_type": "code",
   "execution_count": null,
   "id": "c91dbf7c",
   "metadata": {},
   "outputs": [],
   "source": []
  },
  {
   "cell_type": "code",
   "execution_count": null,
   "id": "1b512439",
   "metadata": {},
   "outputs": [],
   "source": []
  },
  {
   "cell_type": "markdown",
   "id": "62ad7bd4",
   "metadata": {},
   "source": [
    "### Getting yaml/json from Python objects"
   ]
  },
  {
   "cell_type": "code",
   "execution_count": 20,
   "id": "ab0ecf5e",
   "metadata": {},
   "outputs": [],
   "source": [
    "from viewers.serial_viewer import SerialViewer"
   ]
  },
  {
   "cell_type": "code",
   "execution_count": 21,
   "id": "27f658d4",
   "metadata": {},
   "outputs": [
    {
     "name": "stdout",
     "output_type": "stream",
     "text": [
      "SerialViewer(depth=None, use_ids=True, skip_empty=False)\n"
     ]
    },
    {
     "data": {
      "text/plain": [
       "'{\"class\": [], \"short_name\": \"da_method\", \"synonymes\": [\"DA-method(s)\", \"DA-метод(ы)\", \"аналитический(-ие) метод(ы)\"], \"definition\": \"способ решения задач анализе данных\", \"parent\": [\"method\"], \"child\": [], \"instance\": [\"ci\", \"abt\", \"ps_methods\", \"psm\"], \"container\": [\"da\"], \"content\": [], \"uses\": [], \"usage\": [\"da_task_type\"]}'"
      ]
     },
     "execution_count": 21,
     "metadata": {},
     "output_type": "execute_result"
    }
   ],
   "source": [
    "viewer = SerialViewer(use_ids=True)\n",
    "print(viewer)\n",
    "viewer.get_view(root).get_json()"
   ]
  },
  {
   "cell_type": "code",
   "execution_count": 22,
   "id": "d383aec9",
   "metadata": {},
   "outputs": [
    {
     "name": "stdout",
     "output_type": "stream",
     "text": [
      "short_name: da_method\n",
      "synonymes:\n",
      "  - DA-method(s)\n",
      "  - DA-метод(ы)\n",
      "  - аналитический(-ие) метод(ы)\n",
      "definition: способ решения задач анализе данных\n",
      "parent:\n",
      "  - method\n",
      "instance:\n",
      "  - ci\n",
      "  - abt\n",
      "  - ps_methods\n",
      "  - psm\n",
      "container:\n",
      "  - da\n",
      "usage:\n",
      "  - da_task_type\n",
      "\n"
     ]
    },
    {
     "data": {
      "text/plain": [
       "'{\"short_name\": \"da_method\", \"synonymes\": [\"DA-method(s)\", \"DA-метод(ы)\", \"аналитический(-ие) метод(ы)\"], \"definition\": \"способ решения задач анализе данных\", \"parent\": [\"method\"], \"instance\": [\"ci\", \"abt\", \"ps_methods\", \"psm\"], \"container\": [\"da\"], \"usage\": [\"da_task_type\"]}'"
      ]
     },
     "execution_count": 22,
     "metadata": {},
     "output_type": "execute_result"
    }
   ],
   "source": [
    "viewer = SerialViewer(use_ids=True, skip_empty=True)\n",
    "json_repr = viewer.get_view(root).get_json()\n",
    "yaml_repr = viewer.get_view(root).get_yaml()\n",
    "print(yaml_repr)\n",
    "json_repr"
   ]
  },
  {
   "cell_type": "code",
   "execution_count": 23,
   "id": "0a6ddc55",
   "metadata": {},
   "outputs": [
    {
     "name": "stdout",
     "output_type": "stream",
     "text": [
      "short_name: da_method\n",
      "synonymes:\n",
      "  - DA-method(s)\n",
      "  - DA-метод(ы)\n",
      "  - аналитический(-ие) метод(ы)\n",
      "definition: способ решения задач анализе данных\n",
      "parent:\n",
      "  - short_name: method\n",
      "    synonymes:\n",
      "      - method\n",
      "      - метод\n",
      "    definition: способ достижения какого-либо результата в некоторой области\n",
      "    child:\n",
      "      - da_method\n",
      "    uses:\n",
      "      - discipline\n",
      "instance:\n",
      "  - class:\n",
      "      - da_method\n",
      "    short_name: ci\n",
      "    synonymes:\n",
      "      - CI\n",
      "      - causal inference\n",
      "      - причинно-следственный вывод\n",
      "      - причинно-следственный анализ\n",
      "    definition: методы исследования причинно-следственных связей\n",
      "    content:\n",
      "      - abt\n",
      "      - ps_methods\n",
      "    usage:\n",
      "      - pilot_eval_task\n",
      "  - class:\n",
      "      - da_method\n",
      "    short_name: abt\n",
      "    synonymes:\n",
      "      - ABT\n",
      "      - АБТ\n",
      "      - АБ-тестинг\n",
      "      - AB-Testing\n",
      "    definition: способ оценки внедрений через сравнение тестовой и контрольной выборок\n",
      "      в контролируемом эксперимента\n",
      "    container:\n",
      "      - ci\n",
      "    usage:\n",
      "      - managed_pilot_eval_task\n",
      "  - class:\n",
      "      - da_method\n",
      "    short_name: ps_methods\n",
      "    synonymes:\n",
      "      - PS\n",
      "      - PS*\n",
      "      - PS-methods\n",
      "      - propensity score methods\n",
      "    definition: методы оценки влияния воздействия, использующие оценки вероятностей\n",
      "      объектов испытать воздействие\n",
      "    container:\n",
      "      - ci\n",
      "    content:\n",
      "      - psm\n",
      "    usage:\n",
      "      - retro_pilot_eval_task\n",
      "      - observational_study\n",
      "  - class:\n",
      "      - da_method\n",
      "    short_name: psm\n",
      "    synonymes:\n",
      "      - PSM\n",
      "      - propensity score matching\n",
      "    definition: сравнение пар объектов, в которых один испытал некоторое воздействие,\n",
      "      второй же имел схожую вероятность испытать воздействие, но не испытал\n",
      "    container:\n",
      "      - ps_methods\n",
      "container:\n",
      "  - class:\n",
      "      - discipline\n",
      "    short_name: da\n",
      "    synonymes:\n",
      "      - data analysis\n",
      "      - анализ данных\n",
      "    definition: построение выводов и рекомендаций на основе измеримых фактов, наблюдённых\n",
      "      в данных\n",
      "    content:\n",
      "      - da_task_type\n",
      "      - da_method\n",
      "usage:\n",
      "  - short_name: da_task_type\n",
      "    synonymes:\n",
      "      - DA-task(s)\n",
      "      - DA-task type(s)\n",
      "      - DA-задача(-и)\n",
      "      - класс DA-задач\n",
      "      - категория DA-задач\n",
      "    definition: класс(ы) задач, решаемых в анализе данных\n",
      "    instance:\n",
      "      - pilot_eval_task\n",
      "    container:\n",
      "      - da\n",
      "    uses:\n",
      "      - da_method\n",
      "\n"
     ]
    },
    {
     "data": {
      "text/plain": [
       "'{\"short_name\": \"da_method\", \"synonymes\": [\"DA-method(s)\", \"DA-метод(ы)\", \"аналитический(-ие) метод(ы)\"], \"definition\": \"способ решения задач анализе данных\", \"parent\": [{\"short_name\": \"method\", \"synonymes\": [\"method\", \"метод\"], \"definition\": \"способ достижения какого-либо результата в некоторой области\", \"child\": [\"da_method\"], \"uses\": [\"discipline\"]}], \"instance\": [{\"class\": [\"da_method\"], \"short_name\": \"ci\", \"synonymes\": [\"CI\", \"causal inference\", \"причинно-следственный вывод\", \"причинно-следственный анализ\"], \"definition\": \"методы исследования причинно-следственных связей\", \"content\": [\"abt\", \"ps_methods\"], \"usage\": [\"pilot_eval_task\"]}, {\"class\": [\"da_method\"], \"short_name\": \"abt\", \"synonymes\": [\"ABT\", \"АБТ\", \"АБ-тестинг\", \"AB-Testing\"], \"definition\": \"способ оценки внедрений через сравнение тестовой и контрольной выборок в контролируемом эксперимента\", \"container\": [\"ci\"], \"usage\": [\"managed_pilot_eval_task\"]}, {\"class\": [\"da_method\"], \"short_name\": \"ps_methods\", \"synonymes\": [\"PS\", \"PS*\", \"PS-methods\", \"propensity score methods\"], \"definition\": \"методы оценки влияния воздействия, использующие оценки вероятностей объектов испытать воздействие\", \"container\": [\"ci\"], \"content\": [\"psm\"], \"usage\": [\"retro_pilot_eval_task\", \"observational_study\"]}, {\"class\": [\"da_method\"], \"short_name\": \"psm\", \"synonymes\": [\"PSM\", \"propensity score matching\"], \"definition\": \"сравнение пар объектов, в которых один испытал некоторое воздействие, второй же имел схожую вероятность испытать воздействие, но не испытал\", \"container\": [\"ps_methods\"]}], \"container\": [{\"class\": [\"discipline\"], \"short_name\": \"da\", \"synonymes\": [\"data analysis\", \"анализ данных\"], \"definition\": \"построение выводов и рекомендаций на основе измеримых фактов, наблюдённых в данных\", \"content\": [\"da_task_type\", \"da_method\"]}], \"usage\": [{\"short_name\": \"da_task_type\", \"synonymes\": [\"DA-task(s)\", \"DA-task type(s)\", \"DA-задача(-и)\", \"класс DA-задач\", \"категория DA-задач\"], \"definition\": \"класс(ы) задач, решаемых в анализе данных\", \"instance\": [\"pilot_eval_task\"], \"container\": [\"da\"], \"uses\": [\"da_method\"]}]}'"
      ]
     },
     "execution_count": 23,
     "metadata": {},
     "output_type": "execute_result"
    }
   ],
   "source": [
    "viewer = SerialViewer(depth=3, use_ids=False, skip_empty=True)\n",
    "json_repr = viewer.get_view(root).get_json()\n",
    "yaml_repr = viewer.get_view(root).get_yaml()\n",
    "print(yaml_repr)\n",
    "json_repr"
   ]
  },
  {
   "cell_type": "code",
   "execution_count": null,
   "id": "4f61224c",
   "metadata": {},
   "outputs": [],
   "source": []
  },
  {
   "cell_type": "markdown",
   "id": "084bc827",
   "metadata": {},
   "source": [
    "### Getting LinkedTerm from yaml"
   ]
  },
  {
   "cell_type": "code",
   "execution_count": 24,
   "id": "71620a60",
   "metadata": {},
   "outputs": [
    {
     "name": "stdout",
     "output_type": "stream",
     "text": [
      "dict {'a': 1, 'b': 2}\n",
      "  a (int): 1\n",
      "  b (int): 2\n"
     ]
    },
    {
     "data": {
      "text/plain": [
       "CommonWrapper({'a': 1, 'b': 2})"
      ]
     },
     "execution_count": 24,
     "metadata": {},
     "output_type": "execute_result"
    }
   ],
   "source": [
    "line = \"\"\"a: 1\n",
    "b: 2\n",
    "\"\"\"\n",
    "viewer = SerialViewer(use_ids=True, skip_empty=True)\n",
    "parsed = viewer.parse(line)\n",
    "parsed.print()\n",
    "parsed"
   ]
  },
  {
   "cell_type": "code",
   "execution_count": 25,
   "id": "d56611d6",
   "metadata": {},
   "outputs": [],
   "source": [
    "yaml_repr = viewer.get_view(parsed).get_yaml()\n",
    "assert yaml_repr == line"
   ]
  },
  {
   "cell_type": "code",
   "execution_count": 26,
   "id": "5ded7c6c",
   "metadata": {},
   "outputs": [
    {
     "name": "stdout",
     "output_type": "stream",
     "text": [
      "LinkedTerm da_method\n",
      "  class (0)\n",
      "  path (1): 'da_method'\n",
      "  short_name (str): da_method\n",
      "  synonymes (3): 'DA-method(s)', 'DA-метод(ы)', 'аналитический(-ие) метод(ы)'\n",
      "  definition (str): способ решения задач анализе данных\n",
      "  parent (1): method\n",
      "  child (0)\n",
      "  instance (4): ci, abt, ps_methods, psm\n",
      "  container (1): da\n",
      "  content (0)\n",
      "  uses (0)\n",
      "  usage (1): da_task_type\n"
     ]
    },
    {
     "data": {
      "text/plain": [
       "CommonWrapper(da_method)"
      ]
     },
     "execution_count": 26,
     "metadata": {},
     "output_type": "execute_result"
    }
   ],
   "source": [
    "line = \"\"\"short_name: da_method\n",
    "synonymes:\n",
    "  - DA-method(s)\n",
    "  - DA-метод(ы)\n",
    "  - аналитический(-ие) метод(ы)\n",
    "definition: способ решения задач анализе данных\n",
    "parent:\n",
    "  - method\n",
    "instance:\n",
    "  - ci\n",
    "  - abt\n",
    "  - ps_methods\n",
    "  - psm\n",
    "container:\n",
    "  - da\n",
    "usage:\n",
    "  - da_task_type\n",
    "\"\"\"\n",
    "parsed = viewer.parse(line, target_class=LinkedTerm)\n",
    "parsed.print()\n",
    "parsed"
   ]
  },
  {
   "cell_type": "code",
   "execution_count": 27,
   "id": "c29650f8",
   "metadata": {},
   "outputs": [],
   "source": [
    "yaml_repr = viewer.get_view(parsed).get_yaml()\n",
    "assert yaml_repr == line"
   ]
  },
  {
   "cell_type": "code",
   "execution_count": null,
   "id": "3a732900",
   "metadata": {},
   "outputs": [],
   "source": []
  },
  {
   "cell_type": "code",
   "execution_count": null,
   "id": "2bbb5c9c",
   "metadata": {},
   "outputs": [],
   "source": []
  }
 ],
 "metadata": {
  "kernelspec": {
   "display_name": "Python 3 (ipykernel)",
   "language": "python",
   "name": "python3"
  },
  "language_info": {
   "codemirror_mode": {
    "name": "ipython",
    "version": 3
   },
   "file_extension": ".py",
   "mimetype": "text/x-python",
   "name": "python",
   "nbconvert_exporter": "python",
   "pygments_lexer": "ipython3",
   "version": "3.9.7"
  }
 },
 "nbformat": 4,
 "nbformat_minor": 5
}

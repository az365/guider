{
 "cells": [
  {
   "cell_type": "code",
   "execution_count": 1,
   "id": "51192096",
   "metadata": {},
   "outputs": [],
   "source": [
    "import sys\n",
    "sys.path.append('..')"
   ]
  },
  {
   "cell_type": "code",
   "execution_count": 2,
   "id": "4d07d946",
   "metadata": {},
   "outputs": [],
   "source": [
    "from wrappers.common_wrapper import CommonWrapper\n",
    "from viewers.simple_text_viewer import SimpleTextViewer"
   ]
  },
  {
   "cell_type": "code",
   "execution_count": null,
   "id": "704fe968",
   "metadata": {},
   "outputs": [],
   "source": []
  },
  {
   "cell_type": "code",
   "execution_count": 3,
   "id": "bf59d6c6",
   "metadata": {},
   "outputs": [],
   "source": [
    "text_viewer = SimpleTextViewer()\n",
    "CommonWrapper.set_default_viewer(text_viewer)"
   ]
  },
  {
   "cell_type": "code",
   "execution_count": null,
   "id": "18e3ce51",
   "metadata": {},
   "outputs": [],
   "source": []
  },
  {
   "cell_type": "markdown",
   "id": "98308fd0",
   "metadata": {},
   "source": [
    "### Getting views for simple Python structs"
   ]
  },
  {
   "cell_type": "code",
   "execution_count": 4,
   "id": "be1f2b7c",
   "metadata": {},
   "outputs": [
    {
     "name": "stdout",
     "output_type": "stream",
     "text": [
      "dict {'a': 1, 'b': 2}\n",
      "  a (int): 1\n",
      "  b (int): 2\n"
     ]
    },
    {
     "data": {
      "text/plain": [
       "CommonWrapper({'a': 1, 'b': 2})"
      ]
     },
     "execution_count": 4,
     "metadata": {},
     "output_type": "execute_result"
    }
   ],
   "source": [
    "d = dict(a=1, b=2)\n",
    "w = CommonWrapper(d)\n",
    "w.print()\n",
    "w"
   ]
  },
  {
   "cell_type": "code",
   "execution_count": 5,
   "id": "d1327823",
   "metadata": {},
   "outputs": [
    {
     "name": "stdout",
     "output_type": "stream",
     "text": [
      "CommonWrapper CommonWrapper({'a': 1, 'b': 2})\n",
      "  class (type): dict\n",
      "  path (0)\n",
      "  a (int): 1\n",
      "  b (int): 2\n"
     ]
    },
    {
     "data": {
      "text/plain": [
       "CommonWrapper(CommonWrapper({'a': 1, 'b': 2}))"
      ]
     },
     "execution_count": 5,
     "metadata": {},
     "output_type": "execute_result"
    }
   ],
   "source": [
    "w2 = CommonWrapper(w)\n",
    "w2.print()\n",
    "w2"
   ]
  },
  {
   "cell_type": "code",
   "execution_count": null,
   "id": "f7257b50",
   "metadata": {},
   "outputs": [],
   "source": []
  },
  {
   "cell_type": "code",
   "execution_count": 6,
   "id": "ed20b803",
   "metadata": {},
   "outputs": [
    {
     "data": {
      "text/plain": [
       "CommonWrapper(1)"
      ]
     },
     "execution_count": 6,
     "metadata": {},
     "output_type": "execute_result"
    }
   ],
   "source": [
    "w.get_property('a')"
   ]
  },
  {
   "cell_type": "code",
   "execution_count": 7,
   "id": "0b8e7bf5",
   "metadata": {},
   "outputs": [
    {
     "data": {
      "text/plain": [
       "CommonWrapper({'a': 1, 'b': 2})"
      ]
     },
     "execution_count": 7,
     "metadata": {},
     "output_type": "execute_result"
    }
   ],
   "source": [
    "w2.get_property('_obj')"
   ]
  },
  {
   "cell_type": "code",
   "execution_count": null,
   "id": "78375bd8",
   "metadata": {},
   "outputs": [],
   "source": []
  },
  {
   "cell_type": "code",
   "execution_count": 8,
   "id": "6d3eae4b",
   "metadata": {},
   "outputs": [
    {
     "data": {
      "text/plain": [
       "CommonWrapper(1)"
      ]
     },
     "execution_count": 8,
     "metadata": {},
     "output_type": "execute_result"
    }
   ],
   "source": [
    "w2.get_node(['_obj', 'a'])"
   ]
  },
  {
   "cell_type": "code",
   "execution_count": 9,
   "id": "66f22452",
   "metadata": {},
   "outputs": [
    {
     "data": {
      "text/plain": [
       "CommonWrapper(1)"
      ]
     },
     "execution_count": 9,
     "metadata": {},
     "output_type": "execute_result"
    }
   ],
   "source": [
    "w2.get_node('_obj.a')"
   ]
  },
  {
   "cell_type": "code",
   "execution_count": 10,
   "id": "ba32bf82",
   "metadata": {},
   "outputs": [
    {
     "data": {
      "text/plain": [
       "CommonWrapper({'a': 1, 'b': 2})"
      ]
     },
     "execution_count": 10,
     "metadata": {},
     "output_type": "execute_result"
    }
   ],
   "source": [
    "w.get_node('')"
   ]
  },
  {
   "cell_type": "code",
   "execution_count": null,
   "id": "5c9618d9",
   "metadata": {},
   "outputs": [],
   "source": []
  },
  {
   "cell_type": "markdown",
   "id": "f3719a16",
   "metadata": {},
   "source": [
    "### Getting views for LinkedTerm examples"
   ]
  },
  {
   "cell_type": "code",
   "execution_count": 11,
   "id": "78dec67c",
   "metadata": {},
   "outputs": [],
   "source": [
    "from examples.da_knowledge.linked_terms import da_method, psm"
   ]
  },
  {
   "cell_type": "code",
   "execution_count": 12,
   "id": "9160de2a",
   "metadata": {},
   "outputs": [
    {
     "name": "stdout",
     "output_type": "stream",
     "text": [
      "DA-method(s)\n"
     ]
    },
    {
     "data": {
      "text/plain": [
       "da_method"
      ]
     },
     "execution_count": 12,
     "metadata": {},
     "output_type": "execute_result"
    }
   ],
   "source": [
    "print(da_method)\n",
    "da_method"
   ]
  },
  {
   "cell_type": "code",
   "execution_count": 13,
   "id": "1c1195e7",
   "metadata": {},
   "outputs": [
    {
     "name": "stdout",
     "output_type": "stream",
     "text": [
      "LinkedTerm da_method\n",
      "  class (0)\n",
      "  path (1): 'da_method'\n",
      "  short_name (str): da_method\n",
      "  synonymes (3): 'DA-method(s)', 'DA-метод(ы)', 'аналитический(-ие) метод(ы)'\n",
      "  definition (str): способ решения задач анализе данных\n",
      "  parent (1): method\n",
      "  child (0)\n",
      "  instance (4): ci, abt, ps_methods, psm\n",
      "  container (1): da\n",
      "  content (0)\n",
      "  uses (0)\n",
      "  usage (1): da_task_type\n"
     ]
    }
   ],
   "source": [
    "text_viewer.print(da_method)"
   ]
  },
  {
   "cell_type": "code",
   "execution_count": 14,
   "id": "9a9f99c8",
   "metadata": {},
   "outputs": [
    {
     "name": "stdout",
     "output_type": "stream",
     "text": [
      "LinkedTerm psm\n",
      "  class (1): da_method\n",
      "  path (1): 'psm'\n",
      "  short_name (str): psm\n",
      "  synonymes (2): 'PSM', 'propensity score matching'\n",
      "  definition (str): сравнение пар объектов, в которых один испытал некоторое ...\n",
      "  parent (0)\n",
      "  child (0)\n",
      "  instance (0)\n",
      "  container (1): ps_methods\n",
      "  content (0)\n",
      "  uses (0)\n",
      "  usage (0)\n"
     ]
    }
   ],
   "source": [
    "text_viewer.print(psm)"
   ]
  },
  {
   "cell_type": "code",
   "execution_count": null,
   "id": "b8cdf12b",
   "metadata": {},
   "outputs": [],
   "source": []
  },
  {
   "cell_type": "markdown",
   "id": "5cc78354",
   "metadata": {},
   "source": [
    "### Getting objects by path"
   ]
  },
  {
   "cell_type": "code",
   "execution_count": 15,
   "id": "beb64432",
   "metadata": {},
   "outputs": [],
   "source": [
    "root = CommonWrapper(da_method)"
   ]
  },
  {
   "cell_type": "code",
   "execution_count": 16,
   "id": "4793e7b3",
   "metadata": {
    "scrolled": true
   },
   "outputs": [
    {
     "name": "stdout",
     "output_type": "stream",
     "text": [
      "list [ci, abt, ps_methods, psm]\n",
      "  class (type): list\n",
      "  path (2): 'da_method', 'instance'\n",
      "  0 (LinkedTerm): CI\n",
      "  1 (LinkedTerm): ABT\n",
      "  2 (LinkedTerm): PS\n",
      "  3 (LinkedTerm): PSM\n"
     ]
    }
   ],
   "source": [
    "root.get_node('instance').print()"
   ]
  },
  {
   "cell_type": "code",
   "execution_count": 18,
   "id": "e822307e",
   "metadata": {},
   "outputs": [
    {
     "name": "stdout",
     "output_type": "stream",
     "text": [
      "LinkedTerm ci\n",
      "  class (1): da_method\n",
      "  path (3): 'da_method', 'instance', 'ci'\n",
      "  short_name (str): ci\n",
      "  synonymes (4): 'CI', 'causal inference', 'причинно-следственный вывод', 'пр...\n",
      "  definition (str): методы исследования причинно-следственных связей\n",
      "  parent (0)\n",
      "  child (0)\n",
      "  instance (0)\n",
      "  container (0)\n",
      "  content (2): abt, ps_methods\n",
      "  uses (0)\n",
      "  usage (1): pilot_eval_task\n"
     ]
    }
   ],
   "source": [
    "root.get_node('instance.ci').print()"
   ]
  },
  {
   "cell_type": "code",
   "execution_count": 25,
   "id": "969b30bf",
   "metadata": {},
   "outputs": [],
   "source": [
    "assert root.get_node('instance.0') == root.get_node('instance.ci'), (root.get_node('instance.0'), root.get_node('instance.ci'))"
   ]
  },
  {
   "cell_type": "code",
   "execution_count": 20,
   "id": "96f89b49",
   "metadata": {},
   "outputs": [
    {
     "name": "stdout",
     "output_type": "stream",
     "text": [
      "LinkedTerm ps_methods\n",
      "  class (1): da_method\n",
      "  path (5): 'da_method', 'instance', 'ci', 'content', 'ps_methods'\n",
      "  short_name (str): ps_methods\n",
      "  synonymes (4): 'PS', 'PS*', 'PS-methods', 'propensity score methods'\n",
      "  definition (str): методы оценки влияния воздействия, использующие оценки ве...\n",
      "  parent (0)\n",
      "  child (0)\n",
      "  instance (0)\n",
      "  container (1): ci\n",
      "  content (1): psm\n",
      "  uses (0)\n",
      "  usage (2): retro_pilot_eval_task, observational_study\n"
     ]
    }
   ],
   "source": [
    "root.get_node('instance.ci.content.ps_methods').print()"
   ]
  },
  {
   "cell_type": "code",
   "execution_count": null,
   "id": "c91dbf7c",
   "metadata": {},
   "outputs": [],
   "source": []
  },
  {
   "cell_type": "code",
   "execution_count": null,
   "id": "1b512439",
   "metadata": {},
   "outputs": [],
   "source": []
  },
  {
   "cell_type": "markdown",
   "id": "62ad7bd4",
   "metadata": {},
   "source": [
    "### Getting json from Python objects"
   ]
  },
  {
   "cell_type": "code",
   "execution_count": 21,
   "id": "ab0ecf5e",
   "metadata": {},
   "outputs": [],
   "source": [
    "from viewers.serial_viewer import SerialViewer"
   ]
  },
  {
   "cell_type": "code",
   "execution_count": 22,
   "id": "27f658d4",
   "metadata": {},
   "outputs": [
    {
     "name": "stdout",
     "output_type": "stream",
     "text": [
      "SerialViewer(depth=None, use_ids=True, skip_empty=False)\n"
     ]
    },
    {
     "data": {
      "text/plain": [
       "'{\"class\": [], \"short_name\": \"da_method\", \"synonymes\": [\"DA-method(s)\", \"DA-метод(ы)\", \"аналитический(-ие) метод(ы)\"], \"definition\": \"способ решения задач анализе данных\", \"parent\": [\"method\"], \"child\": [], \"instance\": [\"ci\", \"abt\", \"ps_methods\", \"psm\"], \"container\": [\"da\"], \"content\": [], \"uses\": [], \"usage\": [\"da_task_type\"]}'"
      ]
     },
     "execution_count": 22,
     "metadata": {},
     "output_type": "execute_result"
    }
   ],
   "source": [
    "viewer = SerialViewer(use_ids=True)\n",
    "print(viewer)\n",
    "viewer.get_view(root).get_json()"
   ]
  },
  {
   "cell_type": "code",
   "execution_count": 23,
   "id": "d383aec9",
   "metadata": {},
   "outputs": [
    {
     "name": "stdout",
     "output_type": "stream",
     "text": [
      "SerialViewer(depth=None, use_ids=True, skip_empty=True)\n"
     ]
    },
    {
     "data": {
      "text/plain": [
       "'{\"short_name\": \"da_method\", \"synonymes\": [\"DA-method(s)\", \"DA-метод(ы)\", \"аналитический(-ие) метод(ы)\"], \"definition\": \"способ решения задач анализе данных\", \"parent\": [\"method\"], \"instance\": [\"ci\", \"abt\", \"ps_methods\", \"psm\"], \"container\": [\"da\"], \"usage\": [\"da_task_type\"]}'"
      ]
     },
     "execution_count": 23,
     "metadata": {},
     "output_type": "execute_result"
    }
   ],
   "source": [
    "viewer = SerialViewer(use_ids=True, skip_empty=True)\n",
    "print(viewer)\n",
    "viewer.get_view(root).get_json()"
   ]
  },
  {
   "cell_type": "code",
   "execution_count": 24,
   "id": "0a6ddc55",
   "metadata": {},
   "outputs": [
    {
     "name": "stdout",
     "output_type": "stream",
     "text": [
      "SerialViewer(depth=3, use_ids=False, skip_empty=True)\n"
     ]
    },
    {
     "data": {
      "text/plain": [
       "'{\"short_name\": \"da_method\", \"synonymes\": [\"DA-method(s)\", \"DA-метод(ы)\", \"аналитический(-ие) метод(ы)\"], \"definition\": \"способ решения задач анализе данных\", \"parent\": [{\"short_name\": \"method\", \"synonymes\": [\"CommonWrapper(method)\", \"CommonWrapper(метод)\"], \"definition\": \"способ достижения какого-либо результата в некоторой области\", \"child\": [\"CommonWrapper(DA-method(s))\"], \"uses\": [\"CommonWrapper(дисциплина)\"]}], \"instance\": [{\"class\": [\"CommonWrapper(DA-method(s))\"], \"short_name\": \"ci\", \"synonymes\": [\"CommonWrapper(CI)\", \"CommonWrapper(causal inference)\", \"CommonWrapper(причинно-следственный вывод)\", \"CommonWrapper(причинно-следственный анализ)\"], \"definition\": \"методы исследования причинно-следственных связей\", \"content\": [\"CommonWrapper(ABT)\", \"CommonWrapper(PS)\"], \"usage\": [\"CommonWrapper(задача оценки эффекта воздействия)\"]}, {\"class\": [\"CommonWrapper(DA-method(s))\"], \"short_name\": \"abt\", \"synonymes\": [\"CommonWrapper(ABT)\", \"CommonWrapper(АБТ)\", \"CommonWrapper(АБ-тестинг)\", \"CommonWrapper(AB-Testing)\"], \"definition\": \"способ оценки внедрений через сравнение тестовой и контрольной выборок в контролируемом эксперимента\", \"container\": [\"CommonWrapper(CI)\"], \"usage\": [\"CommonWrapper(контролируемый эксперимент)\"]}, {\"class\": [\"CommonWrapper(DA-method(s))\"], \"short_name\": \"ps_methods\", \"synonymes\": [\"CommonWrapper(PS)\", \"CommonWrapper(PS*)\", \"CommonWrapper(PS-methods)\", \"CommonWrapper(propensity score methods)\"], \"definition\": \"методы оценки влияния воздействия, использующие оценки вероятностей объектов испытать воздействие\", \"container\": [\"CommonWrapper(CI)\"], \"content\": [\"CommonWrapper(PSM)\"], \"usage\": [\"CommonWrapper(ретроспективный эксперимент)\", \"CommonWrapper(observational study(-ies))\"]}, {\"class\": [\"CommonWrapper(DA-method(s))\"], \"short_name\": \"psm\", \"synonymes\": [\"CommonWrapper(PSM)\", \"CommonWrapper(propensity score matching)\"], \"definition\": \"сравнение пар объектов, в которых один испытал некоторое воздействие, второй же имел схожую вероятность испытать воздействие, но не испытал\", \"container\": [\"CommonWrapper(PS)\"]}], \"container\": [{\"class\": [\"CommonWrapper(дисциплина)\"], \"short_name\": \"da\", \"synonymes\": [\"CommonWrapper(data analysis)\", \"CommonWrapper(анализ данных)\"], \"definition\": \"построение выводов и рекомендаций на основе измеримых фактов, наблюдённых в данных\", \"content\": [\"CommonWrapper(DA-task(s))\", \"CommonWrapper(DA-method(s))\"]}], \"usage\": [{\"short_name\": \"da_task_type\", \"synonymes\": [\"CommonWrapper(DA-task(s))\", \"CommonWrapper(DA-task type(s))\", \"CommonWrapper(DA-задача(-и))\", \"CommonWrapper(класс DA-задач)\", \"CommonWrapper(категория DA-задач)\"], \"definition\": \"класс(ы) задач, решаемых в анализе данных\", \"instance\": [\"CommonWrapper(задача оценки эффекта воздействия)\"], \"container\": [\"CommonWrapper(data analysis)\"], \"uses\": [\"CommonWrapper(DA-method(s))\"]}]}'"
      ]
     },
     "execution_count": 24,
     "metadata": {},
     "output_type": "execute_result"
    }
   ],
   "source": [
    "viewer = SerialViewer(depth=3, use_ids=False, skip_empty=True)\n",
    "print(viewer)\n",
    "viewer.get_view(root).get_json()"
   ]
  },
  {
   "cell_type": "code",
   "execution_count": null,
   "id": "8fe4e4be",
   "metadata": {},
   "outputs": [],
   "source": []
  },
  {
   "cell_type": "code",
   "execution_count": null,
   "id": "501b4a03",
   "metadata": {},
   "outputs": [],
   "source": []
  }
 ],
 "metadata": {
  "kernelspec": {
   "display_name": "Python 3 (ipykernel)",
   "language": "python",
   "name": "python3"
  },
  "language_info": {
   "codemirror_mode": {
    "name": "ipython",
    "version": 3
   },
   "file_extension": ".py",
   "mimetype": "text/x-python",
   "name": "python",
   "nbconvert_exporter": "python",
   "pygments_lexer": "ipython3",
   "version": "3.9.7"
  }
 },
 "nbformat": 4,
 "nbformat_minor": 5
}

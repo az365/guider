{
 "cells": [
  {
   "cell_type": "code",
   "execution_count": 1,
   "id": "6dd00cb9",
   "metadata": {},
   "outputs": [],
   "source": [
    "import sys\n",
    "sys.path.append('..')"
   ]
  },
  {
   "cell_type": "code",
   "execution_count": 2,
   "id": "bbb01051",
   "metadata": {},
   "outputs": [],
   "source": [
    "from wrappers.common_wrapper import CommonWrapper\n",
    "from viewers.simple_text_viewer import SimpleTextViewer"
   ]
  },
  {
   "cell_type": "code",
   "execution_count": null,
   "id": "4a2c4152",
   "metadata": {},
   "outputs": [],
   "source": []
  },
  {
   "cell_type": "code",
   "execution_count": 3,
   "id": "6bf4f8e8",
   "metadata": {},
   "outputs": [],
   "source": [
    "text_viewer = SimpleTextViewer()\n",
    "CommonWrapper.set_default_viewer(text_viewer)"
   ]
  },
  {
   "cell_type": "code",
   "execution_count": null,
   "id": "e93c869d",
   "metadata": {},
   "outputs": [],
   "source": []
  },
  {
   "cell_type": "code",
   "execution_count": 5,
   "id": "c9033a7f",
   "metadata": {},
   "outputs": [
    {
     "name": "stdout",
     "output_type": "stream",
     "text": [
      "dict {'a': 1, 'b': 2}\n",
      "  a (int): 1\n",
      "  b (int): 2\n"
     ]
    },
    {
     "data": {
      "text/plain": [
       "CommonWrapper({'a': 1, 'b': 2})"
      ]
     },
     "execution_count": 5,
     "metadata": {},
     "output_type": "execute_result"
    }
   ],
   "source": [
    "d = dict(a=1, b=2)\n",
    "w = CommonWrapper(d)\n",
    "w.print()\n",
    "w"
   ]
  },
  {
   "cell_type": "code",
   "execution_count": 6,
   "id": "2303a8ae",
   "metadata": {},
   "outputs": [
    {
     "name": "stdout",
     "output_type": "stream",
     "text": [
      "CommonWrapper CommonWrapper({'a': 1, 'b': 2})\n",
      "  class (type): dict\n",
      "  path (0)\n",
      "  a (int): 1\n",
      "  b (int): 2\n"
     ]
    },
    {
     "data": {
      "text/plain": [
       "CommonWrapper(CommonWrapper({'a': 1, 'b': 2}))"
      ]
     },
     "execution_count": 6,
     "metadata": {},
     "output_type": "execute_result"
    }
   ],
   "source": [
    "w2 = CommonWrapper(w)\n",
    "w2.print()\n",
    "w2"
   ]
  },
  {
   "cell_type": "code",
   "execution_count": null,
   "id": "7fc1d46d",
   "metadata": {},
   "outputs": [],
   "source": []
  },
  {
   "cell_type": "code",
   "execution_count": 7,
   "id": "186914d4",
   "metadata": {},
   "outputs": [
    {
     "data": {
      "text/plain": [
       "CommonWrapper(1)"
      ]
     },
     "execution_count": 7,
     "metadata": {},
     "output_type": "execute_result"
    }
   ],
   "source": [
    "w.get_property('a')"
   ]
  },
  {
   "cell_type": "code",
   "execution_count": 9,
   "id": "b4addceb",
   "metadata": {},
   "outputs": [
    {
     "data": {
      "text/plain": [
       "CommonWrapper({'a': 1, 'b': 2})"
      ]
     },
     "execution_count": 9,
     "metadata": {},
     "output_type": "execute_result"
    }
   ],
   "source": [
    "w2.get_property('_obj')"
   ]
  },
  {
   "cell_type": "code",
   "execution_count": null,
   "id": "5730157b",
   "metadata": {},
   "outputs": [],
   "source": []
  },
  {
   "cell_type": "code",
   "execution_count": 8,
   "id": "38a6a329",
   "metadata": {},
   "outputs": [
    {
     "data": {
      "text/plain": [
       "CommonWrapper(1)"
      ]
     },
     "execution_count": 8,
     "metadata": {},
     "output_type": "execute_result"
    }
   ],
   "source": [
    "w2.get_node(['_obj', 'a'])"
   ]
  },
  {
   "cell_type": "code",
   "execution_count": 13,
   "id": "872f85e1",
   "metadata": {},
   "outputs": [
    {
     "data": {
      "text/plain": [
       "CommonWrapper(1)"
      ]
     },
     "execution_count": 13,
     "metadata": {},
     "output_type": "execute_result"
    }
   ],
   "source": [
    "w2.get_node('_obj.a')"
   ]
  },
  {
   "cell_type": "code",
   "execution_count": 9,
   "id": "ab682cf0",
   "metadata": {},
   "outputs": [
    {
     "data": {
      "text/plain": [
       "CommonWrapper({'a': 1, 'b': 2})"
      ]
     },
     "execution_count": 9,
     "metadata": {},
     "output_type": "execute_result"
    }
   ],
   "source": [
    "w.get_node('')"
   ]
  },
  {
   "cell_type": "code",
   "execution_count": null,
   "id": "37f37877",
   "metadata": {},
   "outputs": [],
   "source": []
  },
  {
   "cell_type": "code",
   "execution_count": null,
   "id": "bc13ed4b",
   "metadata": {},
   "outputs": [],
   "source": []
  },
  {
   "cell_type": "code",
   "execution_count": 15,
   "id": "a5b726f9",
   "metadata": {},
   "outputs": [],
   "source": [
    "from examples.da_knowledge.linked_terms import da_method, psm"
   ]
  },
  {
   "cell_type": "code",
   "execution_count": 12,
   "id": "280d13aa",
   "metadata": {},
   "outputs": [
    {
     "name": "stdout",
     "output_type": "stream",
     "text": [
      "DA-method(s)\n"
     ]
    },
    {
     "data": {
      "text/plain": [
       "da_method"
      ]
     },
     "execution_count": 12,
     "metadata": {},
     "output_type": "execute_result"
    }
   ],
   "source": [
    "print(da_method)\n",
    "da_method"
   ]
  },
  {
   "cell_type": "code",
   "execution_count": 13,
   "id": "8ebcaa97",
   "metadata": {},
   "outputs": [
    {
     "name": "stdout",
     "output_type": "stream",
     "text": [
      "LinkedTerm da_method\n",
      "  class (0)\n",
      "  path (1): 'da_method'\n",
      "  short_name (str): da_method\n",
      "  synonymes (3): 'DA-method(s)', 'DA-метод(ы)', 'аналитический(-ие) метод(ы)'\n",
      "  definition (str): способ решения задач анализе данных\n",
      "  parent (1): method\n",
      "  child (0)\n",
      "  instance (4): ci, abt, ps_methods, psm\n",
      "  container (1): da\n",
      "  content (0)\n",
      "  uses (0)\n",
      "  usage (1): da_task_type\n"
     ]
    }
   ],
   "source": [
    "text_viewer.print(da_method)"
   ]
  },
  {
   "cell_type": "code",
   "execution_count": 14,
   "id": "f0cdffc0",
   "metadata": {},
   "outputs": [
    {
     "name": "stdout",
     "output_type": "stream",
     "text": [
      "LinkedTerm psm\n",
      "  class (1): da_method\n",
      "  path (1): 'psm'\n",
      "  short_name (str): psm\n",
      "  synonymes (2): 'PSM', 'propensity score matching'\n",
      "  definition (str): сравнение пар объектов, в которых один испытал некоторое ...\n",
      "  parent (0)\n",
      "  child (0)\n",
      "  instance (0)\n",
      "  container (1): ps_methods\n",
      "  content (0)\n",
      "  uses (0)\n",
      "  usage (0)\n"
     ]
    }
   ],
   "source": [
    "text_viewer.print(psm)"
   ]
  },
  {
   "cell_type": "code",
   "execution_count": null,
   "id": "5205cfef",
   "metadata": {},
   "outputs": [],
   "source": []
  },
  {
   "cell_type": "code",
   "execution_count": 17,
   "id": "155f478f",
   "metadata": {},
   "outputs": [],
   "source": [
    "root = CommonWrapper(da_method)"
   ]
  },
  {
   "cell_type": "code",
   "execution_count": 20,
   "id": "3796aabb",
   "metadata": {
    "scrolled": true
   },
   "outputs": [
    {
     "name": "stdout",
     "output_type": "stream",
     "text": [
      "list [ci, abt, ps_methods, psm]\n",
      "  class (type): list\n",
      "  path (2): 'da_method', 'instance'\n",
      "  0 (LinkedTerm): CI\n",
      "  1 (LinkedTerm): ABT\n",
      "  2 (LinkedTerm): PS\n",
      "  3 (LinkedTerm): PSM\n"
     ]
    }
   ],
   "source": [
    "root.get_node('instance').print()"
   ]
  },
  {
   "cell_type": "code",
   "execution_count": 21,
   "id": "23228ce1",
   "metadata": {},
   "outputs": [
    {
     "data": {
      "text/plain": [
       "CommonWrapper(ci)"
      ]
     },
     "execution_count": 21,
     "metadata": {},
     "output_type": "execute_result"
    }
   ],
   "source": [
    "root.get_node('instance.0')"
   ]
  },
  {
   "cell_type": "code",
   "execution_count": 52,
   "id": "bdea7be0",
   "metadata": {},
   "outputs": [
    {
     "name": "stdout",
     "output_type": "stream",
     "text": [
      "LinkedTerm da_method\n",
      "  class (0)\n",
      "  path (3): 'method', 'child', 'da_method'\n",
      "  short_name (str): da_method\n",
      "  synonymes (3): 'DA-method(s)', 'DA-метод(ы)', 'аналитический(-ие) метод(ы)'\n",
      "  definition (str): способ решения задач анализе данных\n",
      "  parent (1): method\n",
      "  child (0)\n",
      "  instance (4): ci, abt, ps_methods, psm\n",
      "  container (1): da\n",
      "  content (0)\n",
      "  uses (0)\n",
      "  usage (1): da_task_type\n"
     ]
    }
   ],
   "source": [
    "root.get_node('child.da_method').print()"
   ]
  },
  {
   "cell_type": "code",
   "execution_count": 53,
   "id": "b081a6d7",
   "metadata": {},
   "outputs": [
    {
     "name": "stdout",
     "output_type": "stream",
     "text": [
      "LinkedTerm ci\n",
      "  class (1): da_method\n",
      "  path (6): 'method', 'method', 'child', 'da_method', 'instance', 'ci'\n",
      "  short_name (str): ci\n",
      "  synonymes (4): 'CI', 'causal inference', 'причинно-следственный вывод', 'пр...\n",
      "  definition (str): методы исследования причинно-следственных связей\n",
      "  parent (0)\n",
      "  child (0)\n",
      "  instance (0)\n",
      "  container (0)\n",
      "  content (2): abt, ps_methods\n",
      "  uses (0)\n",
      "  usage (1): pilot_eval_task\n"
     ]
    }
   ],
   "source": [
    "root.get_node('method.child.da_method.instance.ci').print()"
   ]
  },
  {
   "cell_type": "code",
   "execution_count": null,
   "id": "db291409",
   "metadata": {},
   "outputs": [],
   "source": []
  },
  {
   "cell_type": "code",
   "execution_count": 54,
   "id": "2f2587c3",
   "metadata": {},
   "outputs": [],
   "source": [
    "from viewers.serial_viewer import SerialViewer"
   ]
  },
  {
   "cell_type": "code",
   "execution_count": 55,
   "id": "d4b6e7f0",
   "metadata": {},
   "outputs": [
    {
     "name": "stdout",
     "output_type": "stream",
     "text": [
      "SerialViewer(depth=None, use_ids=True, skip_empty=False)\n"
     ]
    },
    {
     "data": {
      "text/plain": [
       "'{\"class\": [], \"short_name\": \"method\", \"synonymes\": [\"method\", \"метод\"], \"definition\": \"способ достижения какого-либо результата в некоторой области\", \"parent\": [], \"child\": [\"da_method\"], \"instance\": [], \"container\": [], \"content\": [], \"uses\": [\"discipline\"], \"usage\": []}'"
      ]
     },
     "execution_count": 55,
     "metadata": {},
     "output_type": "execute_result"
    }
   ],
   "source": [
    "viewer = SerialViewer(use_ids=True)\n",
    "print(viewer)\n",
    "viewer.get_view(method).get_json()"
   ]
  },
  {
   "cell_type": "code",
   "execution_count": 56,
   "id": "8720e9d5",
   "metadata": {},
   "outputs": [
    {
     "name": "stdout",
     "output_type": "stream",
     "text": [
      "SerialViewer(depth=None, use_ids=True, skip_empty=True)\n"
     ]
    },
    {
     "data": {
      "text/plain": [
       "'{\"short_name\": \"method\", \"synonymes\": [\"method\", \"метод\"], \"definition\": \"способ достижения какого-либо результата в некоторой области\", \"child\": [\"da_method\"], \"uses\": [\"discipline\"]}'"
      ]
     },
     "execution_count": 56,
     "metadata": {},
     "output_type": "execute_result"
    }
   ],
   "source": [
    "viewer = SerialViewer(use_ids=True, skip_empty=True)\n",
    "print(viewer)\n",
    "viewer.get_view(method).get_json()"
   ]
  },
  {
   "cell_type": "code",
   "execution_count": 57,
   "id": "7521ddfb",
   "metadata": {},
   "outputs": [
    {
     "name": "stdout",
     "output_type": "stream",
     "text": [
      "SerialViewer(depth=3, use_ids=False, skip_empty=True)\n"
     ]
    },
    {
     "data": {
      "text/plain": [
       "'{\"short_name\": \"method\", \"synonymes\": [\"method\", \"метод\"], \"definition\": \"способ достижения какого-либо результата в некоторой области\", \"child\": [{\"short_name\": \"da_method\", \"synonymes\": [\"CommonWrapper(DA-method(s))\", \"CommonWrapper(DA-метод(ы))\", \"CommonWrapper(аналитический(-ие) метод(ы))\"], \"definition\": \"способ решения задач анализе данных\", \"parent\": [\"CommonWrapper(method)\"], \"instance\": [\"CommonWrapper(CI)\", \"CommonWrapper(ABT)\", \"CommonWrapper(PS)\", \"CommonWrapper(PSM)\"], \"container\": [\"CommonWrapper(data analysis)\"], \"usage\": [\"CommonWrapper(DA-task(s))\"]}], \"uses\": [{\"short_name\": \"discipline\", \"synonymes\": [\"CommonWrapper(дисциплина)\", \"CommonWrapper(наука)\", \"CommonWrapper(профессия)\"], \"instance\": [\"CommonWrapper(data analysis)\"], \"usage\": [\"CommonWrapper(method)\"]}]}'"
      ]
     },
     "execution_count": 57,
     "metadata": {},
     "output_type": "execute_result"
    }
   ],
   "source": [
    "viewer = SerialViewer(depth=3, use_ids=False, skip_empty=True)\n",
    "print(viewer)\n",
    "viewer.get_view(method).get_json()"
   ]
  },
  {
   "cell_type": "code",
   "execution_count": null,
   "id": "3e9fd063",
   "metadata": {},
   "outputs": [],
   "source": []
  },
  {
   "cell_type": "code",
   "execution_count": null,
   "id": "1e26842d",
   "metadata": {},
   "outputs": [],
   "source": []
  }
 ],
 "metadata": {
  "kernelspec": {
   "display_name": "Python 3 (ipykernel)",
   "language": "python",
   "name": "python3"
  },
  "language_info": {
   "codemirror_mode": {
    "name": "ipython",
    "version": 3
   },
   "file_extension": ".py",
   "mimetype": "text/x-python",
   "name": "python",
   "nbconvert_exporter": "python",
   "pygments_lexer": "ipython3",
   "version": "3.9.7"
  }
 },
 "nbformat": 4,
 "nbformat_minor": 5
}
